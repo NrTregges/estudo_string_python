{
 "cells": [
  {
   "cell_type": "markdown",
   "id": "10c8c3a3",
   "metadata": {},
   "source": [
    "# Usando a documentação Python"
   ]
  },
  {
   "cell_type": "code",
   "execution_count": 8,
   "id": "9a50d97e",
   "metadata": {},
   "outputs": [],
   "source": [
    "# Listagem 1: Primeira string\n",
    "\n",
    "primeira_string = \"Casa\""
   ]
  },
  {
   "cell_type": "code",
   "execution_count": 7,
   "id": "e9a9f66d",
   "metadata": {},
   "outputs": [],
   "source": [
    "maiusculas_primeira_string = primeira_string.upper()\n"
   ]
  },
  {
   "cell_type": "code",
   "execution_count": 9,
   "id": "44068983",
   "metadata": {},
   "outputs": [
    {
     "name": "stdout",
     "output_type": "stream",
     "text": [
      "Casa\n"
     ]
    }
   ],
   "source": [
    "print (primeira_string)"
   ]
  },
  {
   "cell_type": "code",
   "execution_count": 5,
   "id": "a7f8eb01",
   "metadata": {},
   "outputs": [
    {
     "name": "stdout",
     "output_type": "stream",
     "text": [
      "CASA\n"
     ]
    }
   ],
   "source": [
    "print(maiusculas_primeira_string)"
   ]
  },
  {
   "cell_type": "code",
   "execution_count": 11,
   "id": "437be6c5",
   "metadata": {},
   "outputs": [],
   "source": [
    "minuscula_primeira_string = primeira_string.lower()"
   ]
  },
  {
   "cell_type": "code",
   "execution_count": 13,
   "id": "6852d72e",
   "metadata": {},
   "outputs": [
    {
     "name": "stdout",
     "output_type": "stream",
     "text": [
      "casa\n"
     ]
    }
   ],
   "source": [
    "print(minuscula_primeira_string)"
   ]
  },
  {
   "cell_type": "code",
   "execution_count": null,
   "id": "2cd8b0cc",
   "metadata": {},
   "outputs": [],
   "source": []
  }
 ],
 "metadata": {
  "kernelspec": {
   "display_name": "Python 3 (ipykernel)",
   "language": "python",
   "name": "python3"
  },
  "language_info": {
   "codemirror_mode": {
    "name": "ipython",
    "version": 3
   },
   "file_extension": ".py",
   "mimetype": "text/x-python",
   "name": "python",
   "nbconvert_exporter": "python",
   "pygments_lexer": "ipython3",
   "version": "3.10.9"
  }
 },
 "nbformat": 4,
 "nbformat_minor": 5
}
